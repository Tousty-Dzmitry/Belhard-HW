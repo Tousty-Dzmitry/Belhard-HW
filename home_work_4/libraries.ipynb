{
 "cells": [
  {
   "cell_type": "code",
   "execution_count": 1,
   "id": "21df1960-09e8-4e2e-b6ea-03f7006b5d38",
   "metadata": {},
   "outputs": [
    {
     "name": "stdout",
     "output_type": "stream",
     "text": [
      "Requirement already satisfied: pandas in /home/dzmitry/.pyenv/versions/3.10.0/lib/python3.10/site-packages (2.2.3)\n",
      "Requirement already satisfied: pytz>=2020.1 in /home/dzmitry/.pyenv/versions/3.10.0/lib/python3.10/site-packages (from pandas) (2025.2)\n",
      "Requirement already satisfied: numpy>=1.22.4 in /home/dzmitry/.pyenv/versions/3.10.0/lib/python3.10/site-packages (from pandas) (2.2.4)\n",
      "Requirement already satisfied: python-dateutil>=2.8.2 in /home/dzmitry/.pyenv/versions/3.10.0/lib/python3.10/site-packages (from pandas) (2.9.0.post0)\n",
      "Requirement already satisfied: tzdata>=2022.7 in /home/dzmitry/.pyenv/versions/3.10.0/lib/python3.10/site-packages (from pandas) (2025.2)\n",
      "Requirement already satisfied: six>=1.5 in /home/dzmitry/.pyenv/versions/3.10.0/lib/python3.10/site-packages (from python-dateutil>=2.8.2->pandas) (1.17.0)\n",
      "\u001b[33mWARNING: You are using pip version 21.2.3; however, version 25.0.1 is available.\n",
      "You should consider upgrading via the '/home/dzmitry/.pyenv/versions/3.10.0/bin/python3.10 -m pip install --upgrade pip' command.\u001b[0m\n",
      "Note: you may need to restart the kernel to use updated packages.\n"
     ]
    }
   ],
   "source": [
    "pip install pandas"
   ]
  },
  {
   "cell_type": "code",
   "execution_count": 2,
   "id": "669fbba0-d27d-4545-bf2d-941d887a4891",
   "metadata": {},
   "outputs": [
    {
     "name": "stdout",
     "output_type": "stream",
     "text": [
      "Requirement already satisfied: scikit-learn in /home/dzmitry/.pyenv/versions/3.10.0/lib/python3.10/site-packages (1.6.1)\n",
      "Requirement already satisfied: numpy>=1.19.5 in /home/dzmitry/.pyenv/versions/3.10.0/lib/python3.10/site-packages (from scikit-learn) (2.2.4)\n",
      "Requirement already satisfied: joblib>=1.2.0 in /home/dzmitry/.pyenv/versions/3.10.0/lib/python3.10/site-packages (from scikit-learn) (1.4.2)\n",
      "Requirement already satisfied: threadpoolctl>=3.1.0 in /home/dzmitry/.pyenv/versions/3.10.0/lib/python3.10/site-packages (from scikit-learn) (3.6.0)\n",
      "Requirement already satisfied: scipy>=1.6.0 in /home/dzmitry/.pyenv/versions/3.10.0/lib/python3.10/site-packages (from scikit-learn) (1.15.2)\n",
      "\u001b[33mWARNING: You are using pip version 21.2.3; however, version 25.0.1 is available.\n",
      "You should consider upgrading via the '/home/dzmitry/.pyenv/versions/3.10.0/bin/python3.10 -m pip install --upgrade pip' command.\u001b[0m\n",
      "Note: you may need to restart the kernel to use updated packages.\n"
     ]
    }
   ],
   "source": [
    "pip install scikit-learn"
   ]
  },
  {
   "cell_type": "code",
   "execution_count": 3,
   "id": "77fa41e0-75bc-4bff-bf57-fa31cfbc8bf9",
   "metadata": {},
   "outputs": [
    {
     "name": "stdout",
     "output_type": "stream",
     "text": [
      "1.6.1\n"
     ]
    }
   ],
   "source": [
    "import sklearn\n",
    "print(sklearn.__version__)  # Должно вывести версию (например, 1.3.0)"
   ]
  },
  {
   "cell_type": "code",
   "execution_count": 4,
   "id": "38c3bdd7-6ddc-4a30-b0f7-aeded947aa4e",
   "metadata": {},
   "outputs": [
    {
     "name": "stdout",
     "output_type": "stream",
     "text": [
      "Requirement already satisfied: catboost in /home/dzmitry/.pyenv/versions/3.10.0/lib/python3.10/site-packages (1.2.8)\n",
      "Requirement already satisfied: plotly in /home/dzmitry/.pyenv/versions/3.10.0/lib/python3.10/site-packages (from catboost) (6.0.1)\n",
      "Requirement already satisfied: numpy<3.0,>=1.16.0 in /home/dzmitry/.pyenv/versions/3.10.0/lib/python3.10/site-packages (from catboost) (2.2.4)\n",
      "Requirement already satisfied: pandas>=0.24 in /home/dzmitry/.pyenv/versions/3.10.0/lib/python3.10/site-packages (from catboost) (2.2.3)\n",
      "Requirement already satisfied: graphviz in /home/dzmitry/.pyenv/versions/3.10.0/lib/python3.10/site-packages (from catboost) (0.20.3)\n",
      "Requirement already satisfied: six in /home/dzmitry/.pyenv/versions/3.10.0/lib/python3.10/site-packages (from catboost) (1.17.0)\n",
      "Requirement already satisfied: matplotlib in /home/dzmitry/.pyenv/versions/3.10.0/lib/python3.10/site-packages (from catboost) (3.10.1)\n",
      "Requirement already satisfied: scipy in /home/dzmitry/.pyenv/versions/3.10.0/lib/python3.10/site-packages (from catboost) (1.15.2)\n",
      "Requirement already satisfied: python-dateutil>=2.8.2 in /home/dzmitry/.pyenv/versions/3.10.0/lib/python3.10/site-packages (from pandas>=0.24->catboost) (2.9.0.post0)\n",
      "Requirement already satisfied: pytz>=2020.1 in /home/dzmitry/.pyenv/versions/3.10.0/lib/python3.10/site-packages (from pandas>=0.24->catboost) (2025.2)\n",
      "Requirement already satisfied: tzdata>=2022.7 in /home/dzmitry/.pyenv/versions/3.10.0/lib/python3.10/site-packages (from pandas>=0.24->catboost) (2025.2)\n",
      "Requirement already satisfied: contourpy>=1.0.1 in /home/dzmitry/.pyenv/versions/3.10.0/lib/python3.10/site-packages (from matplotlib->catboost) (1.3.1)\n",
      "Requirement already satisfied: pyparsing>=2.3.1 in /home/dzmitry/.pyenv/versions/3.10.0/lib/python3.10/site-packages (from matplotlib->catboost) (3.2.3)\n",
      "Requirement already satisfied: pillow>=8 in /home/dzmitry/.pyenv/versions/3.10.0/lib/python3.10/site-packages (from matplotlib->catboost) (11.1.0)\n",
      "Requirement already satisfied: cycler>=0.10 in /home/dzmitry/.pyenv/versions/3.10.0/lib/python3.10/site-packages (from matplotlib->catboost) (0.12.1)\n",
      "Requirement already satisfied: kiwisolver>=1.3.1 in /home/dzmitry/.pyenv/versions/3.10.0/lib/python3.10/site-packages (from matplotlib->catboost) (1.4.8)\n",
      "Requirement already satisfied: packaging>=20.0 in /home/dzmitry/.pyenv/versions/3.10.0/lib/python3.10/site-packages (from matplotlib->catboost) (24.2)\n",
      "Requirement already satisfied: fonttools>=4.22.0 in /home/dzmitry/.pyenv/versions/3.10.0/lib/python3.10/site-packages (from matplotlib->catboost) (4.56.0)\n",
      "Requirement already satisfied: narwhals>=1.15.1 in /home/dzmitry/.pyenv/versions/3.10.0/lib/python3.10/site-packages (from plotly->catboost) (1.34.1)\n",
      "\u001b[33mWARNING: You are using pip version 21.2.3; however, version 25.0.1 is available.\n",
      "You should consider upgrading via the '/home/dzmitry/.pyenv/versions/3.10.0/bin/python3.10 -m pip install --upgrade pip' command.\u001b[0m\n"
     ]
    }
   ],
   "source": [
    "# 2. Классификатор CatBoost.\n",
    "!pip install catboost"
   ]
  },
  {
   "cell_type": "code",
   "execution_count": null,
   "id": "a2c400cb-0f94-4574-90f5-1fe11f8d5800",
   "metadata": {},
   "outputs": [],
   "source": []
  }
 ],
 "metadata": {
  "kernelspec": {
   "display_name": "Python 3 (ipykernel)",
   "language": "python",
   "name": "python3"
  },
  "language_info": {
   "codemirror_mode": {
    "name": "ipython",
    "version": 3
   },
   "file_extension": ".py",
   "mimetype": "text/x-python",
   "name": "python",
   "nbconvert_exporter": "python",
   "pygments_lexer": "ipython3",
   "version": "3.10.0"
  }
 },
 "nbformat": 4,
 "nbformat_minor": 5
}
